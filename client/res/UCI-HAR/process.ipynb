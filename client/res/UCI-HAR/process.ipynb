{
 "cells": [
  {
   "cell_type": "code",
   "execution_count": 22,
   "id": "5a8ff0bb",
   "metadata": {},
   "outputs": [],
   "source": [
    "import pandas as pd\n",
    "import numpy as np"
   ]
  },
  {
   "cell_type": "code",
   "execution_count": 29,
   "id": "7adb4a68",
   "metadata": {},
   "outputs": [],
   "source": [
    "test_df = pd.read_csv(\"train.csv\")"
   ]
  },
  {
   "cell_type": "code",
   "execution_count": 30,
   "id": "d27a2159",
   "metadata": {},
   "outputs": [],
   "source": [
    "test_df = test_df.sample(frac=1.0)"
   ]
  },
  {
   "cell_type": "code",
   "execution_count": 31,
   "id": "ecd7ad6e",
   "metadata": {},
   "outputs": [
    {
     "data": {
      "text/plain": [
       "<bound method NDFrame.head of       tBodyAcc-mean()-X  tBodyAcc-mean()-Y  tBodyAcc-mean()-Z  \\\n",
       "5462           0.250381           0.007463          -0.185534   \n",
       "6633           0.277855          -0.012289          -0.102139   \n",
       "4001           0.275929          -0.018408          -0.113873   \n",
       "52             0.278373          -0.020561          -0.096825   \n",
       "4482           0.333258          -0.001307          -0.166581   \n",
       "...                 ...                ...                ...   \n",
       "6767           0.209149           0.007983          -0.059764   \n",
       "4499           0.435932          -0.021026          -0.121265   \n",
       "232            0.277906          -0.017143          -0.109859   \n",
       "3049           0.243773          -0.036631          -0.140603   \n",
       "5398           0.289399          -0.020910          -0.118582   \n",
       "\n",
       "      tBodyAcc-std()-X  tBodyAcc-std()-Y  tBodyAcc-std()-Z  tBodyAcc-mad()-X  \\\n",
       "5462         -0.452990         -0.228518         -0.313213         -0.498368   \n",
       "6633         -0.998413         -0.985879         -0.987709         -0.998530   \n",
       "4001         -0.994466         -0.981280         -0.982971         -0.994974   \n",
       "52           -0.984883         -0.991118         -0.982112         -0.987985   \n",
       "4482         -0.034498         -0.062471         -0.283268         -0.059698   \n",
       "...                ...               ...               ...               ...   \n",
       "6767          0.213444         -0.269561         -0.218734          0.131383   \n",
       "4499          0.481349          0.242910         -0.325527          0.479778   \n",
       "232          -0.997547         -0.987156         -0.996027         -0.997556   \n",
       "3049         -0.504466         -0.260463         -0.240682         -0.535457   \n",
       "5398         -0.622662         -0.192027         -0.445756         -0.656721   \n",
       "\n",
       "      tBodyAcc-mad()-Y  tBodyAcc-mad()-Z  tBodyAcc-max()-X  ...  \\\n",
       "5462         -0.289406         -0.277553         -0.215734  ...   \n",
       "6633         -0.983981         -0.988456         -0.944019  ...   \n",
       "4001         -0.980153         -0.983600         -0.938904  ...   \n",
       "52           -0.990362         -0.982189         -0.920051  ...   \n",
       "4482         -0.174912         -0.338661          0.283234  ...   \n",
       "...                ...               ...               ...  ...   \n",
       "6767         -0.333641         -0.203771          0.575052  ...   \n",
       "4499          0.134974         -0.328479          0.552730  ...   \n",
       "232          -0.984310         -0.996290         -0.943302  ...   \n",
       "3049         -0.292133         -0.271080         -0.356988  ...   \n",
       "5398         -0.209894         -0.452039         -0.509869  ...   \n",
       "\n",
       "      fBodyBodyGyroJerkMag-kurtosis()  angle(tBodyAccMean,gravity)  \\\n",
       "5462                        -0.773675                     0.177836   \n",
       "6633                        -0.869906                    -0.053516   \n",
       "4001                        -0.699548                    -0.100758   \n",
       "52                          -0.912512                    -0.113048   \n",
       "4482                         0.048713                    -0.191360   \n",
       "...                               ...                          ...   \n",
       "6767                         0.448830                     0.348332   \n",
       "4499                        -0.979932                    -0.833157   \n",
       "232                         -0.830145                     0.069677   \n",
       "3049                        -0.429522                    -0.022962   \n",
       "5398                        -0.562733                    -0.344924   \n",
       "\n",
       "      angle(tBodyAccJerkMean),gravityMean)  angle(tBodyGyroMean,gravityMean)  \\\n",
       "5462                              0.225681                          0.288356   \n",
       "6633                              0.082629                         -0.733907   \n",
       "4001                             -0.243712                         -0.024083   \n",
       "52                                0.223038                         -0.393075   \n",
       "4482                             -0.580316                         -0.423810   \n",
       "...                                    ...                               ...   \n",
       "6767                              0.143166                          0.940197   \n",
       "4499                             -0.580367                         -0.388566   \n",
       "232                              -0.114160                         -0.421283   \n",
       "3049                              0.417316                          0.923491   \n",
       "5398                              0.139754                          0.896049   \n",
       "\n",
       "      angle(tBodyGyroJerkMean,gravityMean)  angle(X,gravityMean)  \\\n",
       "5462                              0.783157             -0.772768   \n",
       "6633                              0.403121             -0.919844   \n",
       "4001                             -0.887418             -0.589643   \n",
       "52                                0.359037              0.399853   \n",
       "4482                              0.689597             -0.765469   \n",
       "...                                    ...                   ...   \n",
       "6767                              0.559357             -0.860000   \n",
       "4499                              0.197090             -0.794312   \n",
       "232                               0.445952             -0.734109   \n",
       "3049                             -0.033778             -0.504589   \n",
       "5398                              0.315731             -0.850263   \n",
       "\n",
       "      angle(Y,gravityMean)  angle(Z,gravityMean)  subject            Activity  \n",
       "5462              0.254157              0.036224       25    WALKING_UPSTAIRS  \n",
       "6633              0.068684             -0.034417       29            STANDING  \n",
       "4001              0.324650              0.189170       21            STANDING  \n",
       "52               -0.550364             -0.427593        1              LAYING  \n",
       "4482              0.237371             -0.067771       22             WALKING  \n",
       "...                    ...                   ...      ...                 ...  \n",
       "6767              0.139543             -0.074247       29  WALKING_DOWNSTAIRS  \n",
       "4499              0.219062             -0.059631       22  WALKING_DOWNSTAIRS  \n",
       "232               0.005039             -0.149178        1             SITTING  \n",
       "3049              0.290207              0.305091       16    WALKING_UPSTAIRS  \n",
       "5398              0.187006             -0.037634       25             WALKING  \n",
       "\n",
       "[7352 rows x 563 columns]>"
      ]
     },
     "execution_count": 31,
     "metadata": {},
     "output_type": "execute_result"
    }
   ],
   "source": [
    "test_df.head"
   ]
  },
  {
   "cell_type": "code",
   "execution_count": 32,
   "id": "3b8b5fdc",
   "metadata": {},
   "outputs": [],
   "source": [
    "test_df.drop('subject', axis=1, inplace=True)"
   ]
  },
  {
   "cell_type": "code",
   "execution_count": 33,
   "id": "a6f480d3",
   "metadata": {},
   "outputs": [],
   "source": [
    "data_mapping = {'WALKING':0, 'WALKING_UPSTAIRS':1, 'WALKING_DOWNSTAIRS':2,\n",
    "               'SITTING':3, 'STANDING':4, 'LAYING':5}\n",
    "test_df['Activity'] = test_df['Activity'].map(data_mapping)"
   ]
  },
  {
   "cell_type": "code",
   "execution_count": 34,
   "id": "6ca6bbe2",
   "metadata": {},
   "outputs": [],
   "source": [
    "test_df.to_csv(\"train_final.csv\", index=False)"
   ]
  },
  {
   "cell_type": "code",
   "execution_count": 8,
   "id": "930f94be",
   "metadata": {},
   "outputs": [],
   "source": [
    "for i in range(5):\n",
    "    if i == 4:\n",
    "        split_data = test_df.iloc[i * 1470:]\n",
    "    else:\n",
    "        split_data = test_df.iloc[i * 1470 : (i + 1) * 1470]\n",
    "    filename = 'train_' + str(i+1) + '.csv'\n",
    "    split_data.to_csv(filename, index=False)"
   ]
  },
  {
   "cell_type": "code",
   "execution_count": 9,
   "id": "3b589daf",
   "metadata": {},
   "outputs": [
    {
     "data": {
      "text/plain": [
       "(7352, 562)"
      ]
     },
     "execution_count": 9,
     "metadata": {},
     "output_type": "execute_result"
    }
   ],
   "source": [
    "train_df.shape"
   ]
  },
  {
   "cell_type": "code",
   "execution_count": null,
   "id": "ed97ff53",
   "metadata": {},
   "outputs": [],
   "source": []
  }
 ],
 "metadata": {
  "kernelspec": {
   "display_name": "Python 3",
   "language": "python",
   "name": "python3"
  },
  "language_info": {
   "codemirror_mode": {
    "name": "ipython",
    "version": 3
   },
   "file_extension": ".py",
   "mimetype": "text/x-python",
   "name": "python",
   "nbconvert_exporter": "python",
   "pygments_lexer": "ipython3",
   "version": "3.7.10"
  },
  "toc": {
   "base_numbering": 1,
   "nav_menu": {},
   "number_sections": true,
   "sideBar": true,
   "skip_h1_title": false,
   "title_cell": "Table of Contents",
   "title_sidebar": "Contents",
   "toc_cell": false,
   "toc_position": {},
   "toc_section_display": true,
   "toc_window_display": false
  }
 },
 "nbformat": 4,
 "nbformat_minor": 5
}
