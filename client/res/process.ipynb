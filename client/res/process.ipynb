{
 "cells": [
  {
   "cell_type": "code",
   "execution_count": 2,
   "metadata": {},
   "outputs": [],
   "source": [
    "import pandas as pd\n",
    "import numpy as np"
   ]
  },
  {
   "cell_type": "code",
   "execution_count": 3,
   "metadata": {},
   "outputs": [],
   "source": [
    "train_df = pd.read_csv('train.csv')"
   ]
  },
  {
   "cell_type": "code",
   "execution_count": 4,
   "metadata": {},
   "outputs": [],
   "source": [
    "train_df = train_df.sample(frac=1.0)  # 全部打乱"
   ]
  },
  {
   "cell_type": "code",
   "execution_count": 5,
   "metadata": {},
   "outputs": [
    {
     "data": {
      "text/plain": [
       "<bound method NDFrame.head of       tBodyAcc-mean()-X  tBodyAcc-mean()-Y  tBodyAcc-mean()-Z  \\\n",
       "6506           0.281982          -0.016468          -0.101741   \n",
       "3086           0.272519           0.012043          -0.080628   \n",
       "2215           0.155985          -0.060462          -0.103107   \n",
       "3485           0.274799          -0.018161          -0.114034   \n",
       "5306           0.281716          -0.008136          -0.094710   \n",
       "...                 ...                ...                ...   \n",
       "2546           0.279216          -0.012942          -0.109483   \n",
       "4023           0.275913          -0.014823          -0.113820   \n",
       "2090           0.267222          -0.012738          -0.105094   \n",
       "2046           0.245567          -0.022919          -0.111754   \n",
       "1151           0.322563           0.001762          -0.099583   \n",
       "\n",
       "      tBodyAcc-std()-X  tBodyAcc-std()-Y  tBodyAcc-std()-Z  tBodyAcc-mad()-X  \\\n",
       "6506         -0.992841         -0.974711         -0.932695         -0.993935   \n",
       "3086         -0.978789         -0.797168         -0.813014         -0.983620   \n",
       "2215         -0.293703         -0.127388         -0.257646         -0.394201   \n",
       "3485         -0.996311         -0.966171         -0.955629         -0.996279   \n",
       "5306         -0.996311         -0.976716         -0.984820         -0.996765   \n",
       "...                ...               ...               ...               ...   \n",
       "2546         -0.995907         -0.980773         -0.990885         -0.996525   \n",
       "4023         -0.995907         -0.990773         -0.971043         -0.996259   \n",
       "2090         -0.971546         -0.934882         -0.970207         -0.975270   \n",
       "2046         -0.307961         -0.130955         -0.152379         -0.348899   \n",
       "1151         -0.077319          0.163397         -0.366976         -0.150695   \n",
       "\n",
       "      tBodyAcc-mad()-Y  tBodyAcc-mad()-Z  tBodyAcc-max()-X  ...  \\\n",
       "6506         -0.975265         -0.925720         -0.926421  ...   \n",
       "3086         -0.789381         -0.809563         -0.922627  ...   \n",
       "2215         -0.128247         -0.210203          0.058312  ...   \n",
       "3485         -0.962308         -0.950020         -0.942015  ...   \n",
       "5306         -0.975889         -0.985394         -0.934580  ...   \n",
       "...                ...               ...               ...  ...   \n",
       "2546         -0.980469         -0.991716         -0.941737  ...   \n",
       "4023         -0.991166         -0.969659         -0.940749  ...   \n",
       "2090         -0.936776         -0.974595         -0.910943  ...   \n",
       "2046         -0.120308         -0.126794         -0.158359  ...   \n",
       "1151          0.081617         -0.354550          0.417399  ...   \n",
       "\n",
       "      fBodyBodyGyroJerkMag-kurtosis()  angle(tBodyAccMean,gravity)  \\\n",
       "6506                        -0.871093                    -0.128582   \n",
       "3086                         0.043223                     0.046389   \n",
       "2215                        -0.804992                     0.334993   \n",
       "3485                        -0.721266                     0.101236   \n",
       "5306                        -0.928605                    -0.018467   \n",
       "...                               ...                          ...   \n",
       "2546                        -0.932937                     0.001314   \n",
       "4023                        -0.754053                    -0.023789   \n",
       "2090                         0.570946                     0.172666   \n",
       "2046                        -0.806119                     0.527447   \n",
       "1151                        -0.273368                    -0.258125   \n",
       "\n",
       "      angle(tBodyAccJerkMean),gravityMean)  angle(tBodyGyroMean,gravityMean)  \\\n",
       "6506                              0.339962                         -0.869047   \n",
       "3086                              0.115532                          0.780958   \n",
       "2215                              0.693975                         -0.915713   \n",
       "3485                              0.047557                         -0.414498   \n",
       "5306                             -0.070477                         -0.894280   \n",
       "...                                    ...                               ...   \n",
       "2546                             -0.278944                         -0.061716   \n",
       "4023                             -0.250109                         -0.372984   \n",
       "2090                             -0.363628                         -0.032123   \n",
       "2046                             -0.675423                          0.643123   \n",
       "1151                             -0.394798                          0.890667   \n",
       "\n",
       "      angle(tBodyGyroJerkMean,gravityMean)  angle(X,gravityMean)  \\\n",
       "6506                              0.271347             -0.691954   \n",
       "3086                             -0.650529             -0.816850   \n",
       "2215                             -0.735759             -0.669388   \n",
       "3485                              0.284333             -0.847634   \n",
       "5306                             -0.698733             -0.840987   \n",
       "...                                    ...                   ...   \n",
       "2546                             -0.245705             -0.827234   \n",
       "4023                             -0.157715             -0.744393   \n",
       "2090                              0.109801             -0.546759   \n",
       "2046                              0.769014             -0.629196   \n",
       "1151                              0.550559             -0.672006   \n",
       "\n",
       "      angle(Y,gravityMean)  angle(Z,gravityMean)  subject          Activity  \n",
       "6506              0.290740              0.109952       28           SITTING  \n",
       "3086              0.033788              0.134180       16          STANDING  \n",
       "2215              0.313677             -0.058532       11  WALKING_UPSTAIRS  \n",
       "3485              0.170900              0.097554       17           SITTING  \n",
       "5306              0.205728             -0.005734       25          STANDING  \n",
       "...                    ...                   ...      ...               ...  \n",
       "2546              0.181935             -0.071006       15          STANDING  \n",
       "4023              0.108972              0.202865       21           SITTING  \n",
       "2090             -0.212484             -0.042333       11           SITTING  \n",
       "2046              0.329779             -0.092016       11  WALKING_UPSTAIRS  \n",
       "1151              0.324277              0.032366        6  WALKING_UPSTAIRS  \n",
       "\n",
       "[7352 rows x 563 columns]>"
      ]
     },
     "execution_count": 5,
     "metadata": {},
     "output_type": "execute_result"
    }
   ],
   "source": [
    "train_df.head"
   ]
  },
  {
   "cell_type": "code",
   "execution_count": 6,
   "metadata": {},
   "outputs": [
    {
     "data": {
      "text/plain": [
       "(7352, 563)"
      ]
     },
     "execution_count": 6,
     "metadata": {},
     "output_type": "execute_result"
    }
   ],
   "source": [
    "train_df.shape"
   ]
  },
  {
   "cell_type": "code",
   "execution_count": 7,
   "metadata": {},
   "outputs": [
    {
     "data": {
      "text/plain": [
       "tBodyAcc-mean()-X        0.281982\n",
       "tBodyAcc-mean()-Y      -0.0164685\n",
       "tBodyAcc-mean()-Z       -0.101741\n",
       "tBodyAcc-std()-X        -0.992841\n",
       "tBodyAcc-std()-Y        -0.974711\n",
       "                          ...    \n",
       "angle(X,gravityMean)    -0.691954\n",
       "angle(Y,gravityMean)      0.29074\n",
       "angle(Z,gravityMean)     0.109952\n",
       "subject                        28\n",
       "Activity                  SITTING\n",
       "Name: 6506, Length: 563, dtype: object"
      ]
     },
     "execution_count": 7,
     "metadata": {},
     "output_type": "execute_result"
    }
   ],
   "source": [
    "train_df.iloc[0]"
   ]
  },
  {
   "cell_type": "code",
   "execution_count": 11,
   "metadata": {},
   "outputs": [],
   "source": [
    "train_df.drop('subject', axis=1, inplace=True)"
   ]
  },
  {
   "cell_type": "code",
   "execution_count": 12,
   "metadata": {},
   "outputs": [],
   "source": [
    "data_mapping = {'WALKING':0, 'WALKING_UPSTAIRS':1, 'WALKING_DOWNSTAIRS':2,\n",
    "               'SITTING':3, 'STANDING':4, 'LAYING':5}\n",
    "train_df['Activity'] = train_df['Activity'].map(data_mapping_mapping)"
   ]
  },
  {
   "cell_type": "code",
   "execution_count": 13,
   "metadata": {},
   "outputs": [],
   "source": [
    "for i in range(5):\n",
    "    if i == 4:\n",
    "        split_data = train_df.iloc[i * 1470:]\n",
    "    else:\n",
    "        split_data = train_df.iloc[i * 1470 : (i + 1) * 1470]\n",
    "    filename = 'train_' + str(i+1) + '.csv'\n",
    "    split_data.to_csv(filename, index=False)"
   ]
  },
  {
   "cell_type": "code",
   "execution_count": null,
   "metadata": {},
   "outputs": [],
   "source": []
  }
 ],
 "metadata": {
  "kernelspec": {
   "display_name": "Python 3",
   "language": "python",
   "name": "python3"
  },
  "language_info": {
   "codemirror_mode": {
    "name": "ipython",
    "version": 3
   },
   "file_extension": ".py",
   "mimetype": "text/x-python",
   "name": "python",
   "nbconvert_exporter": "python",
   "pygments_lexer": "ipython3",
   "version": "3.8.5"
  }
 },
 "nbformat": 4,
 "nbformat_minor": 4
}
